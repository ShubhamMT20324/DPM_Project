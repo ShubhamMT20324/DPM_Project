{
 "cells": [
  {
   "cell_type": "code",
   "execution_count": 54,
   "id": "724cc597",
   "metadata": {},
   "outputs": [],
   "source": [
    "import requests, json\n",
    "import pandas as pd"
   ]
  },
  {
   "cell_type": "code",
   "execution_count": 55,
   "id": "d20a1e47",
   "metadata": {},
   "outputs": [],
   "source": [
    "response = requests.get('http://192.168.26.172:14002/all_rt_buses_data').text"
   ]
  },
  {
   "cell_type": "code",
   "execution_count": 56,
   "id": "8d68b95a",
   "metadata": {},
   "outputs": [],
   "source": [
    "route_data = json.loads(response)"
   ]
  },
  {
   "cell_type": "code",
   "execution_count": 57,
   "id": "be392479",
   "metadata": {},
   "outputs": [
    {
     "data": {
      "text/plain": [
       "40600"
      ]
     },
     "execution_count": 57,
     "metadata": {},
     "output_type": "execute_result"
    }
   ],
   "source": [
    "len(route_data)"
   ]
  },
  {
   "cell_type": "code",
   "execution_count": 72,
   "id": "ea08fec1",
   "metadata": {},
   "outputs": [
    {
     "data": {
      "text/plain": [
       "[{'vehicle_id': 'DL1PC6606',\n",
       "  'agency': 'DIMTS',\n",
       "  'route_long_name': '85DOWN',\n",
       "  'route_id': 483,\n",
       "  'upcoming_stop_idx': 39,\n",
       "  'upcoming_stop_id': 2887,\n",
       "  'eta': 21038387,\n",
       "  'stops_in_btw': 1},\n",
       " {'vehicle_id': 'DL1PC6606',\n",
       "  'agency': 'DIMTS',\n",
       "  'route_long_name': '85DOWN',\n",
       "  'route_id': 483,\n",
       "  'upcoming_stop_idx': 40,\n",
       "  'upcoming_stop_id': 2888,\n",
       "  'eta': 21038388,\n",
       "  'stops_in_btw': 2},\n",
       " {'vehicle_id': 'DL1PC6606',\n",
       "  'agency': 'DIMTS',\n",
       "  'route_long_name': '85DOWN',\n",
       "  'route_id': 483,\n",
       "  'upcoming_stop_idx': 41,\n",
       "  'upcoming_stop_id': 2889,\n",
       "  'eta': 21038389,\n",
       "  'stops_in_btw': 3},\n",
       " {'vehicle_id': 'DL1PC6606',\n",
       "  'agency': 'DIMTS',\n",
       "  'route_long_name': '85DOWN',\n",
       "  'route_id': 483,\n",
       "  'upcoming_stop_idx': 42,\n",
       "  'upcoming_stop_id': 2985,\n",
       "  'eta': 21038390,\n",
       "  'stops_in_btw': 4}]"
      ]
     },
     "execution_count": 72,
     "metadata": {},
     "output_type": "execute_result"
    }
   ],
   "source": [
    "route_data[1:5]"
   ]
  },
  {
   "cell_type": "code",
   "execution_count": 59,
   "id": "f6cd6534",
   "metadata": {},
   "outputs": [
    {
     "data": {
      "text/plain": [
       "list"
      ]
     },
     "execution_count": 59,
     "metadata": {},
     "output_type": "execute_result"
    }
   ],
   "source": [
    "type(route_data)"
   ]
  },
  {
   "cell_type": "code",
   "execution_count": 73,
   "id": "ab6e43db",
   "metadata": {},
   "outputs": [],
   "source": [
    "vehicle_list=[route_data[i]['vehicle_id'] for i in range(len(route_data))]"
   ]
  },
  {
   "cell_type": "code",
   "execution_count": 74,
   "id": "ea0adb1a",
   "metadata": {},
   "outputs": [
    {
     "data": {
      "text/plain": [
       "40600"
      ]
     },
     "execution_count": 74,
     "metadata": {},
     "output_type": "execute_result"
    }
   ],
   "source": [
    "len(vehicle_list)"
   ]
  },
  {
   "cell_type": "code",
   "execution_count": 75,
   "id": "74de402b",
   "metadata": {},
   "outputs": [
    {
     "data": {
      "text/plain": [
       "40600"
      ]
     },
     "execution_count": 75,
     "metadata": {},
     "output_type": "execute_result"
    }
   ],
   "source": [
    "route_list=[route_data[i]['route_long_name'] for i in range(len(route_data))]\n",
    "len(route_list)"
   ]
  },
  {
   "cell_type": "code",
   "execution_count": 76,
   "id": "f59e75bf",
   "metadata": {},
   "outputs": [
    {
     "data": {
      "text/plain": [
       "['vehicle_id',\n",
       " 'agency',\n",
       " 'route_long_name',\n",
       " 'route_id',\n",
       " 'upcoming_stop_idx',\n",
       " 'upcoming_stop_id',\n",
       " 'eta',\n",
       " 'stops_in_btw']"
      ]
     },
     "execution_count": 76,
     "metadata": {},
     "output_type": "execute_result"
    }
   ],
   "source": [
    "column_name = list(route_data[0].keys())\n",
    "column_name"
   ]
  },
  {
   "cell_type": "code",
   "execution_count": 77,
   "id": "9a92ae9d",
   "metadata": {},
   "outputs": [],
   "source": [
    "route_dict=dict()\n",
    "\n",
    "for id in column_name:\n",
    "     route_dict[id]= [route_data[i][id] for i in range(len(route_data))]\n",
    "    "
   ]
  },
  {
   "cell_type": "code",
   "execution_count": 78,
   "id": "54ec6041",
   "metadata": {},
   "outputs": [],
   "source": [
    "route_df=pd.DataFrame(route_dict)"
   ]
  },
  {
   "cell_type": "code",
   "execution_count": 79,
   "id": "c8a5dd83",
   "metadata": {},
   "outputs": [
    {
     "data": {
      "text/plain": [
       "Index(['vehicle_id', 'agency', 'route_long_name', 'route_id',\n",
       "       'upcoming_stop_idx', 'upcoming_stop_id', 'eta', 'stops_in_btw'],\n",
       "      dtype='object')"
      ]
     },
     "execution_count": 79,
     "metadata": {},
     "output_type": "execute_result"
    }
   ],
   "source": [
    "route_df.columns"
   ]
  },
  {
   "cell_type": "code",
   "execution_count": 80,
   "id": "7f12c7ec",
   "metadata": {},
   "outputs": [
    {
     "data": {
      "text/plain": [
       "vehicle_id           object\n",
       "agency               object\n",
       "route_long_name      object\n",
       "route_id              int64\n",
       "upcoming_stop_idx     int64\n",
       "upcoming_stop_id      int64\n",
       "eta                   int64\n",
       "stops_in_btw          int64\n",
       "dtype: object"
      ]
     },
     "execution_count": 80,
     "metadata": {},
     "output_type": "execute_result"
    }
   ],
   "source": [
    "route_df.dtypes"
   ]
  },
  {
   "cell_type": "code",
   "execution_count": 81,
   "id": "0cdca7f2",
   "metadata": {},
   "outputs": [
    {
     "data": {
      "text/plain": [
       "(40600, 8)"
      ]
     },
     "execution_count": 81,
     "metadata": {},
     "output_type": "execute_result"
    }
   ],
   "source": [
    "route_df.shape"
   ]
  },
  {
   "cell_type": "code",
   "execution_count": 82,
   "id": "2bd98288",
   "metadata": {},
   "outputs": [
    {
     "name": "stdout",
     "output_type": "stream",
     "text": [
      "<class 'pandas.core.frame.DataFrame'>\n",
      "RangeIndex: 40600 entries, 0 to 40599\n",
      "Data columns (total 8 columns):\n",
      " #   Column             Non-Null Count  Dtype \n",
      "---  ------             --------------  ----- \n",
      " 0   vehicle_id         40600 non-null  object\n",
      " 1   agency             40600 non-null  object\n",
      " 2   route_long_name    40600 non-null  object\n",
      " 3   route_id           40600 non-null  int64 \n",
      " 4   upcoming_stop_idx  40600 non-null  int64 \n",
      " 5   upcoming_stop_id   40600 non-null  int64 \n",
      " 6   eta                40600 non-null  int64 \n",
      " 7   stops_in_btw       40600 non-null  int64 \n",
      "dtypes: int64(5), object(3)\n",
      "memory usage: 2.5+ MB\n"
     ]
    }
   ],
   "source": [
    "route_df.info()"
   ]
  },
  {
   "cell_type": "code",
   "execution_count": 83,
   "id": "2fe9b966",
   "metadata": {},
   "outputs": [
    {
     "data": {
      "text/html": [
       "<div>\n",
       "<style scoped>\n",
       "    .dataframe tbody tr th:only-of-type {\n",
       "        vertical-align: middle;\n",
       "    }\n",
       "\n",
       "    .dataframe tbody tr th {\n",
       "        vertical-align: top;\n",
       "    }\n",
       "\n",
       "    .dataframe thead th {\n",
       "        text-align: right;\n",
       "    }\n",
       "</style>\n",
       "<table border=\"1\" class=\"dataframe\">\n",
       "  <thead>\n",
       "    <tr style=\"text-align: right;\">\n",
       "      <th></th>\n",
       "      <th>vehicle_id</th>\n",
       "      <th>agency</th>\n",
       "      <th>route_long_name</th>\n",
       "      <th>route_id</th>\n",
       "      <th>upcoming_stop_idx</th>\n",
       "      <th>upcoming_stop_id</th>\n",
       "      <th>eta</th>\n",
       "      <th>stops_in_btw</th>\n",
       "    </tr>\n",
       "  </thead>\n",
       "  <tbody>\n",
       "    <tr>\n",
       "      <th>0</th>\n",
       "      <td>DL1PC6606</td>\n",
       "      <td>DIMTS</td>\n",
       "      <td>85DOWN</td>\n",
       "      <td>483</td>\n",
       "      <td>38</td>\n",
       "      <td>2886</td>\n",
       "      <td>21038386</td>\n",
       "      <td>0</td>\n",
       "    </tr>\n",
       "    <tr>\n",
       "      <th>1</th>\n",
       "      <td>DL1PC6606</td>\n",
       "      <td>DIMTS</td>\n",
       "      <td>85DOWN</td>\n",
       "      <td>483</td>\n",
       "      <td>39</td>\n",
       "      <td>2887</td>\n",
       "      <td>21038387</td>\n",
       "      <td>1</td>\n",
       "    </tr>\n",
       "    <tr>\n",
       "      <th>2</th>\n",
       "      <td>DL1PC6606</td>\n",
       "      <td>DIMTS</td>\n",
       "      <td>85DOWN</td>\n",
       "      <td>483</td>\n",
       "      <td>40</td>\n",
       "      <td>2888</td>\n",
       "      <td>21038388</td>\n",
       "      <td>2</td>\n",
       "    </tr>\n",
       "    <tr>\n",
       "      <th>3</th>\n",
       "      <td>DL1PC6606</td>\n",
       "      <td>DIMTS</td>\n",
       "      <td>85DOWN</td>\n",
       "      <td>483</td>\n",
       "      <td>41</td>\n",
       "      <td>2889</td>\n",
       "      <td>21038389</td>\n",
       "      <td>3</td>\n",
       "    </tr>\n",
       "    <tr>\n",
       "      <th>4</th>\n",
       "      <td>DL1PC6606</td>\n",
       "      <td>DIMTS</td>\n",
       "      <td>85DOWN</td>\n",
       "      <td>483</td>\n",
       "      <td>42</td>\n",
       "      <td>2985</td>\n",
       "      <td>21038390</td>\n",
       "      <td>4</td>\n",
       "    </tr>\n",
       "    <tr>\n",
       "      <th>5</th>\n",
       "      <td>DL1PC6606</td>\n",
       "      <td>DIMTS</td>\n",
       "      <td>85DOWN</td>\n",
       "      <td>483</td>\n",
       "      <td>43</td>\n",
       "      <td>2890</td>\n",
       "      <td>21038391</td>\n",
       "      <td>5</td>\n",
       "    </tr>\n",
       "    <tr>\n",
       "      <th>6</th>\n",
       "      <td>DL1PC6606</td>\n",
       "      <td>DIMTS</td>\n",
       "      <td>85DOWN</td>\n",
       "      <td>483</td>\n",
       "      <td>44</td>\n",
       "      <td>2891</td>\n",
       "      <td>21038392</td>\n",
       "      <td>6</td>\n",
       "    </tr>\n",
       "    <tr>\n",
       "      <th>7</th>\n",
       "      <td>DL1PC6606</td>\n",
       "      <td>DIMTS</td>\n",
       "      <td>85DOWN</td>\n",
       "      <td>483</td>\n",
       "      <td>45</td>\n",
       "      <td>1303</td>\n",
       "      <td>21038394</td>\n",
       "      <td>7</td>\n",
       "    </tr>\n",
       "    <tr>\n",
       "      <th>8</th>\n",
       "      <td>DL1PC6606</td>\n",
       "      <td>DIMTS</td>\n",
       "      <td>85DOWN</td>\n",
       "      <td>483</td>\n",
       "      <td>46</td>\n",
       "      <td>1304</td>\n",
       "      <td>21038395</td>\n",
       "      <td>8</td>\n",
       "    </tr>\n",
       "    <tr>\n",
       "      <th>9</th>\n",
       "      <td>DL1PC6606</td>\n",
       "      <td>DIMTS</td>\n",
       "      <td>85DOWN</td>\n",
       "      <td>483</td>\n",
       "      <td>47</td>\n",
       "      <td>1305</td>\n",
       "      <td>21038398</td>\n",
       "      <td>9</td>\n",
       "    </tr>\n",
       "    <tr>\n",
       "      <th>10</th>\n",
       "      <td>DL1PC6606</td>\n",
       "      <td>DIMTS</td>\n",
       "      <td>85DOWN</td>\n",
       "      <td>483</td>\n",
       "      <td>48</td>\n",
       "      <td>1306</td>\n",
       "      <td>21038399</td>\n",
       "      <td>10</td>\n",
       "    </tr>\n",
       "    <tr>\n",
       "      <th>11</th>\n",
       "      <td>DL1PC6606</td>\n",
       "      <td>DIMTS</td>\n",
       "      <td>85DOWN</td>\n",
       "      <td>483</td>\n",
       "      <td>49</td>\n",
       "      <td>68</td>\n",
       "      <td>21038401</td>\n",
       "      <td>11</td>\n",
       "    </tr>\n",
       "    <tr>\n",
       "      <th>12</th>\n",
       "      <td>DL1PD4851</td>\n",
       "      <td>DIMTS</td>\n",
       "      <td>835DOWN</td>\n",
       "      <td>1096</td>\n",
       "      <td>47</td>\n",
       "      <td>1824</td>\n",
       "      <td>1</td>\n",
       "      <td>0</td>\n",
       "    </tr>\n",
       "    <tr>\n",
       "      <th>13</th>\n",
       "      <td>DL1PD5111</td>\n",
       "      <td>DIMTS</td>\n",
       "      <td>539UP</td>\n",
       "      <td>185</td>\n",
       "      <td>76</td>\n",
       "      <td>1501</td>\n",
       "      <td>3</td>\n",
       "      <td>0</td>\n",
       "    </tr>\n",
       "    <tr>\n",
       "      <th>14</th>\n",
       "      <td>DL1PD5067</td>\n",
       "      <td>DIMTS</td>\n",
       "      <td>822UP</td>\n",
       "      <td>1204</td>\n",
       "      <td>41</td>\n",
       "      <td>2847</td>\n",
       "      <td>11</td>\n",
       "      <td>0</td>\n",
       "    </tr>\n",
       "    <tr>\n",
       "      <th>15</th>\n",
       "      <td>DL1PD5067</td>\n",
       "      <td>DIMTS</td>\n",
       "      <td>822UP</td>\n",
       "      <td>1204</td>\n",
       "      <td>42</td>\n",
       "      <td>4152</td>\n",
       "      <td>15</td>\n",
       "      <td>1</td>\n",
       "    </tr>\n",
       "    <tr>\n",
       "      <th>16</th>\n",
       "      <td>DL1PD5067</td>\n",
       "      <td>DIMTS</td>\n",
       "      <td>822UP</td>\n",
       "      <td>1204</td>\n",
       "      <td>43</td>\n",
       "      <td>4153</td>\n",
       "      <td>16</td>\n",
       "      <td>2</td>\n",
       "    </tr>\n",
       "    <tr>\n",
       "      <th>17</th>\n",
       "      <td>DL1PD5067</td>\n",
       "      <td>DIMTS</td>\n",
       "      <td>822UP</td>\n",
       "      <td>1204</td>\n",
       "      <td>44</td>\n",
       "      <td>4154</td>\n",
       "      <td>17</td>\n",
       "      <td>3</td>\n",
       "    </tr>\n",
       "    <tr>\n",
       "      <th>18</th>\n",
       "      <td>DL1PD5067</td>\n",
       "      <td>DIMTS</td>\n",
       "      <td>822UP</td>\n",
       "      <td>1204</td>\n",
       "      <td>45</td>\n",
       "      <td>4155</td>\n",
       "      <td>18</td>\n",
       "      <td>4</td>\n",
       "    </tr>\n",
       "    <tr>\n",
       "      <th>19</th>\n",
       "      <td>DL1PD4729</td>\n",
       "      <td>DIMTS</td>\n",
       "      <td>149AUP</td>\n",
       "      <td>395</td>\n",
       "      <td>4</td>\n",
       "      <td>250</td>\n",
       "      <td>4</td>\n",
       "      <td>0</td>\n",
       "    </tr>\n",
       "  </tbody>\n",
       "</table>\n",
       "</div>"
      ],
      "text/plain": [
       "   vehicle_id agency route_long_name  route_id  upcoming_stop_idx  \\\n",
       "0   DL1PC6606  DIMTS          85DOWN       483                 38   \n",
       "1   DL1PC6606  DIMTS          85DOWN       483                 39   \n",
       "2   DL1PC6606  DIMTS          85DOWN       483                 40   \n",
       "3   DL1PC6606  DIMTS          85DOWN       483                 41   \n",
       "4   DL1PC6606  DIMTS          85DOWN       483                 42   \n",
       "5   DL1PC6606  DIMTS          85DOWN       483                 43   \n",
       "6   DL1PC6606  DIMTS          85DOWN       483                 44   \n",
       "7   DL1PC6606  DIMTS          85DOWN       483                 45   \n",
       "8   DL1PC6606  DIMTS          85DOWN       483                 46   \n",
       "9   DL1PC6606  DIMTS          85DOWN       483                 47   \n",
       "10  DL1PC6606  DIMTS          85DOWN       483                 48   \n",
       "11  DL1PC6606  DIMTS          85DOWN       483                 49   \n",
       "12  DL1PD4851  DIMTS         835DOWN      1096                 47   \n",
       "13  DL1PD5111  DIMTS           539UP       185                 76   \n",
       "14  DL1PD5067  DIMTS           822UP      1204                 41   \n",
       "15  DL1PD5067  DIMTS           822UP      1204                 42   \n",
       "16  DL1PD5067  DIMTS           822UP      1204                 43   \n",
       "17  DL1PD5067  DIMTS           822UP      1204                 44   \n",
       "18  DL1PD5067  DIMTS           822UP      1204                 45   \n",
       "19  DL1PD4729  DIMTS          149AUP       395                  4   \n",
       "\n",
       "    upcoming_stop_id       eta  stops_in_btw  \n",
       "0               2886  21038386             0  \n",
       "1               2887  21038387             1  \n",
       "2               2888  21038388             2  \n",
       "3               2889  21038389             3  \n",
       "4               2985  21038390             4  \n",
       "5               2890  21038391             5  \n",
       "6               2891  21038392             6  \n",
       "7               1303  21038394             7  \n",
       "8               1304  21038395             8  \n",
       "9               1305  21038398             9  \n",
       "10              1306  21038399            10  \n",
       "11                68  21038401            11  \n",
       "12              1824         1             0  \n",
       "13              1501         3             0  \n",
       "14              2847        11             0  \n",
       "15              4152        15             1  \n",
       "16              4153        16             2  \n",
       "17              4154        17             3  \n",
       "18              4155        18             4  \n",
       "19               250         4             0  "
      ]
     },
     "execution_count": 83,
     "metadata": {},
     "output_type": "execute_result"
    }
   ],
   "source": [
    "route_df.head(20)"
   ]
  },
  {
   "cell_type": "code",
   "execution_count": 85,
   "id": "0e01faa9",
   "metadata": {},
   "outputs": [
    {
     "data": {
      "text/html": [
       "<div>\n",
       "<style scoped>\n",
       "    .dataframe tbody tr th:only-of-type {\n",
       "        vertical-align: middle;\n",
       "    }\n",
       "\n",
       "    .dataframe tbody tr th {\n",
       "        vertical-align: top;\n",
       "    }\n",
       "\n",
       "    .dataframe thead th {\n",
       "        text-align: right;\n",
       "    }\n",
       "</style>\n",
       "<table border=\"1\" class=\"dataframe\">\n",
       "  <thead>\n",
       "    <tr style=\"text-align: right;\">\n",
       "      <th></th>\n",
       "      <th>vehicle_id</th>\n",
       "      <th>agency</th>\n",
       "      <th>route_long_name</th>\n",
       "      <th>route_id</th>\n",
       "      <th>upcoming_stop_idx</th>\n",
       "      <th>upcoming_stop_id</th>\n",
       "      <th>eta</th>\n",
       "      <th>stops_in_btw</th>\n",
       "    </tr>\n",
       "  </thead>\n",
       "  <tbody>\n",
       "    <tr>\n",
       "      <th>40580</th>\n",
       "      <td>DL1PD0025</td>\n",
       "      <td>DIMTS</td>\n",
       "      <td>972EXTDOWN</td>\n",
       "      <td>1042</td>\n",
       "      <td>33</td>\n",
       "      <td>1989</td>\n",
       "      <td>60</td>\n",
       "      <td>31</td>\n",
       "    </tr>\n",
       "    <tr>\n",
       "      <th>40581</th>\n",
       "      <td>DL1PD0025</td>\n",
       "      <td>DIMTS</td>\n",
       "      <td>972EXTDOWN</td>\n",
       "      <td>1042</td>\n",
       "      <td>34</td>\n",
       "      <td>2354</td>\n",
       "      <td>63</td>\n",
       "      <td>32</td>\n",
       "    </tr>\n",
       "    <tr>\n",
       "      <th>40582</th>\n",
       "      <td>DL1PD0025</td>\n",
       "      <td>DIMTS</td>\n",
       "      <td>972EXTDOWN</td>\n",
       "      <td>1042</td>\n",
       "      <td>35</td>\n",
       "      <td>2355</td>\n",
       "      <td>67</td>\n",
       "      <td>33</td>\n",
       "    </tr>\n",
       "    <tr>\n",
       "      <th>40583</th>\n",
       "      <td>DL1PD0025</td>\n",
       "      <td>DIMTS</td>\n",
       "      <td>972EXTDOWN</td>\n",
       "      <td>1042</td>\n",
       "      <td>36</td>\n",
       "      <td>2356</td>\n",
       "      <td>69</td>\n",
       "      <td>34</td>\n",
       "    </tr>\n",
       "    <tr>\n",
       "      <th>40584</th>\n",
       "      <td>DL1PD0025</td>\n",
       "      <td>DIMTS</td>\n",
       "      <td>972EXTDOWN</td>\n",
       "      <td>1042</td>\n",
       "      <td>37</td>\n",
       "      <td>2357</td>\n",
       "      <td>70</td>\n",
       "      <td>35</td>\n",
       "    </tr>\n",
       "    <tr>\n",
       "      <th>40585</th>\n",
       "      <td>DL1PD0025</td>\n",
       "      <td>DIMTS</td>\n",
       "      <td>972EXTDOWN</td>\n",
       "      <td>1042</td>\n",
       "      <td>38</td>\n",
       "      <td>2358</td>\n",
       "      <td>72</td>\n",
       "      <td>36</td>\n",
       "    </tr>\n",
       "    <tr>\n",
       "      <th>40586</th>\n",
       "      <td>DL1PD0025</td>\n",
       "      <td>DIMTS</td>\n",
       "      <td>972EXTDOWN</td>\n",
       "      <td>1042</td>\n",
       "      <td>39</td>\n",
       "      <td>2359</td>\n",
       "      <td>73</td>\n",
       "      <td>37</td>\n",
       "    </tr>\n",
       "    <tr>\n",
       "      <th>40587</th>\n",
       "      <td>DL1PD0025</td>\n",
       "      <td>DIMTS</td>\n",
       "      <td>972EXTDOWN</td>\n",
       "      <td>1042</td>\n",
       "      <td>40</td>\n",
       "      <td>2360</td>\n",
       "      <td>77</td>\n",
       "      <td>38</td>\n",
       "    </tr>\n",
       "    <tr>\n",
       "      <th>40588</th>\n",
       "      <td>DL1PD0025</td>\n",
       "      <td>DIMTS</td>\n",
       "      <td>972EXTDOWN</td>\n",
       "      <td>1042</td>\n",
       "      <td>41</td>\n",
       "      <td>2361</td>\n",
       "      <td>78</td>\n",
       "      <td>39</td>\n",
       "    </tr>\n",
       "    <tr>\n",
       "      <th>40589</th>\n",
       "      <td>DL1PD0025</td>\n",
       "      <td>DIMTS</td>\n",
       "      <td>972EXTDOWN</td>\n",
       "      <td>1042</td>\n",
       "      <td>42</td>\n",
       "      <td>2362</td>\n",
       "      <td>83</td>\n",
       "      <td>40</td>\n",
       "    </tr>\n",
       "    <tr>\n",
       "      <th>40590</th>\n",
       "      <td>DL1PD0025</td>\n",
       "      <td>DIMTS</td>\n",
       "      <td>972EXTDOWN</td>\n",
       "      <td>1042</td>\n",
       "      <td>43</td>\n",
       "      <td>2363</td>\n",
       "      <td>85</td>\n",
       "      <td>41</td>\n",
       "    </tr>\n",
       "    <tr>\n",
       "      <th>40591</th>\n",
       "      <td>DL1PD0025</td>\n",
       "      <td>DIMTS</td>\n",
       "      <td>972EXTDOWN</td>\n",
       "      <td>1042</td>\n",
       "      <td>44</td>\n",
       "      <td>2364</td>\n",
       "      <td>86</td>\n",
       "      <td>42</td>\n",
       "    </tr>\n",
       "    <tr>\n",
       "      <th>40592</th>\n",
       "      <td>DL1PD0025</td>\n",
       "      <td>DIMTS</td>\n",
       "      <td>972EXTDOWN</td>\n",
       "      <td>1042</td>\n",
       "      <td>45</td>\n",
       "      <td>2365</td>\n",
       "      <td>91</td>\n",
       "      <td>43</td>\n",
       "    </tr>\n",
       "    <tr>\n",
       "      <th>40593</th>\n",
       "      <td>DL1PD0025</td>\n",
       "      <td>DIMTS</td>\n",
       "      <td>972EXTDOWN</td>\n",
       "      <td>1042</td>\n",
       "      <td>46</td>\n",
       "      <td>2366</td>\n",
       "      <td>95</td>\n",
       "      <td>44</td>\n",
       "    </tr>\n",
       "    <tr>\n",
       "      <th>40594</th>\n",
       "      <td>DL1PD0025</td>\n",
       "      <td>DIMTS</td>\n",
       "      <td>972EXTDOWN</td>\n",
       "      <td>1042</td>\n",
       "      <td>47</td>\n",
       "      <td>2367</td>\n",
       "      <td>96</td>\n",
       "      <td>45</td>\n",
       "    </tr>\n",
       "    <tr>\n",
       "      <th>40595</th>\n",
       "      <td>DL1PD0025</td>\n",
       "      <td>DIMTS</td>\n",
       "      <td>972EXTDOWN</td>\n",
       "      <td>1042</td>\n",
       "      <td>48</td>\n",
       "      <td>103</td>\n",
       "      <td>97</td>\n",
       "      <td>46</td>\n",
       "    </tr>\n",
       "    <tr>\n",
       "      <th>40596</th>\n",
       "      <td>DL1PD0025</td>\n",
       "      <td>DIMTS</td>\n",
       "      <td>972EXTDOWN</td>\n",
       "      <td>1042</td>\n",
       "      <td>49</td>\n",
       "      <td>2899</td>\n",
       "      <td>98</td>\n",
       "      <td>47</td>\n",
       "    </tr>\n",
       "    <tr>\n",
       "      <th>40597</th>\n",
       "      <td>DL1PD0025</td>\n",
       "      <td>DIMTS</td>\n",
       "      <td>972EXTDOWN</td>\n",
       "      <td>1042</td>\n",
       "      <td>50</td>\n",
       "      <td>3813</td>\n",
       "      <td>99</td>\n",
       "      <td>48</td>\n",
       "    </tr>\n",
       "    <tr>\n",
       "      <th>40598</th>\n",
       "      <td>DL1PC6765</td>\n",
       "      <td>DIMTS</td>\n",
       "      <td>534DOWN</td>\n",
       "      <td>385</td>\n",
       "      <td>51</td>\n",
       "      <td>68</td>\n",
       "      <td>2</td>\n",
       "      <td>0</td>\n",
       "    </tr>\n",
       "    <tr>\n",
       "      <th>40599</th>\n",
       "      <td>DL1PD4854</td>\n",
       "      <td>DIMTS</td>\n",
       "      <td>104UP</td>\n",
       "      <td>149</td>\n",
       "      <td>39</td>\n",
       "      <td>2583</td>\n",
       "      <td>6</td>\n",
       "      <td>0</td>\n",
       "    </tr>\n",
       "  </tbody>\n",
       "</table>\n",
       "</div>"
      ],
      "text/plain": [
       "      vehicle_id agency route_long_name  route_id  upcoming_stop_idx  \\\n",
       "40580  DL1PD0025  DIMTS      972EXTDOWN      1042                 33   \n",
       "40581  DL1PD0025  DIMTS      972EXTDOWN      1042                 34   \n",
       "40582  DL1PD0025  DIMTS      972EXTDOWN      1042                 35   \n",
       "40583  DL1PD0025  DIMTS      972EXTDOWN      1042                 36   \n",
       "40584  DL1PD0025  DIMTS      972EXTDOWN      1042                 37   \n",
       "40585  DL1PD0025  DIMTS      972EXTDOWN      1042                 38   \n",
       "40586  DL1PD0025  DIMTS      972EXTDOWN      1042                 39   \n",
       "40587  DL1PD0025  DIMTS      972EXTDOWN      1042                 40   \n",
       "40588  DL1PD0025  DIMTS      972EXTDOWN      1042                 41   \n",
       "40589  DL1PD0025  DIMTS      972EXTDOWN      1042                 42   \n",
       "40590  DL1PD0025  DIMTS      972EXTDOWN      1042                 43   \n",
       "40591  DL1PD0025  DIMTS      972EXTDOWN      1042                 44   \n",
       "40592  DL1PD0025  DIMTS      972EXTDOWN      1042                 45   \n",
       "40593  DL1PD0025  DIMTS      972EXTDOWN      1042                 46   \n",
       "40594  DL1PD0025  DIMTS      972EXTDOWN      1042                 47   \n",
       "40595  DL1PD0025  DIMTS      972EXTDOWN      1042                 48   \n",
       "40596  DL1PD0025  DIMTS      972EXTDOWN      1042                 49   \n",
       "40597  DL1PD0025  DIMTS      972EXTDOWN      1042                 50   \n",
       "40598  DL1PC6765  DIMTS         534DOWN       385                 51   \n",
       "40599  DL1PD4854  DIMTS           104UP       149                 39   \n",
       "\n",
       "       upcoming_stop_id  eta  stops_in_btw  \n",
       "40580              1989   60            31  \n",
       "40581              2354   63            32  \n",
       "40582              2355   67            33  \n",
       "40583              2356   69            34  \n",
       "40584              2357   70            35  \n",
       "40585              2358   72            36  \n",
       "40586              2359   73            37  \n",
       "40587              2360   77            38  \n",
       "40588              2361   78            39  \n",
       "40589              2362   83            40  \n",
       "40590              2363   85            41  \n",
       "40591              2364   86            42  \n",
       "40592              2365   91            43  \n",
       "40593              2366   95            44  \n",
       "40594              2367   96            45  \n",
       "40595               103   97            46  \n",
       "40596              2899   98            47  \n",
       "40597              3813   99            48  \n",
       "40598                68    2             0  \n",
       "40599              2583    6             0  "
      ]
     },
     "execution_count": 85,
     "metadata": {},
     "output_type": "execute_result"
    }
   ],
   "source": [
    "route_df.tail(20)"
   ]
  },
  {
   "cell_type": "code",
   "execution_count": 86,
   "id": "edba02c6",
   "metadata": {},
   "outputs": [
    {
     "data": {
      "text/plain": [
       "vehicle_id           0\n",
       "agency               0\n",
       "route_long_name      0\n",
       "route_id             0\n",
       "upcoming_stop_idx    0\n",
       "upcoming_stop_id     0\n",
       "eta                  0\n",
       "stops_in_btw         0\n",
       "dtype: int64"
      ]
     },
     "execution_count": 86,
     "metadata": {},
     "output_type": "execute_result"
    }
   ],
   "source": [
    "route_df.isnull().sum()"
   ]
  },
  {
   "cell_type": "code",
   "execution_count": 90,
   "id": "2efad309",
   "metadata": {},
   "outputs": [
    {
     "data": {
      "text/html": [
       "<div>\n",
       "<style scoped>\n",
       "    .dataframe tbody tr th:only-of-type {\n",
       "        vertical-align: middle;\n",
       "    }\n",
       "\n",
       "    .dataframe tbody tr th {\n",
       "        vertical-align: top;\n",
       "    }\n",
       "\n",
       "    .dataframe thead th {\n",
       "        text-align: right;\n",
       "    }\n",
       "</style>\n",
       "<table border=\"1\" class=\"dataframe\">\n",
       "  <thead>\n",
       "    <tr style=\"text-align: right;\">\n",
       "      <th></th>\n",
       "      <th>route_id</th>\n",
       "      <th>upcoming_stop_idx</th>\n",
       "      <th>upcoming_stop_id</th>\n",
       "      <th>eta</th>\n",
       "      <th>stops_in_btw</th>\n",
       "    </tr>\n",
       "  </thead>\n",
       "  <tbody>\n",
       "    <tr>\n",
       "      <th>count</th>\n",
       "      <td>40600.000000</td>\n",
       "      <td>40600.000000</td>\n",
       "      <td>40600.000000</td>\n",
       "      <td>4.060000e+04</td>\n",
       "      <td>40600.000000</td>\n",
       "    </tr>\n",
       "    <tr>\n",
       "      <th>mean</th>\n",
       "      <td>621.778547</td>\n",
       "      <td>34.184335</td>\n",
       "      <td>1479.613153</td>\n",
       "      <td>6.252243e+03</td>\n",
       "      <td>15.807094</td>\n",
       "    </tr>\n",
       "    <tr>\n",
       "      <th>std</th>\n",
       "      <td>367.522550</td>\n",
       "      <td>15.228191</td>\n",
       "      <td>1054.970278</td>\n",
       "      <td>3.616435e+05</td>\n",
       "      <td>12.890925</td>\n",
       "    </tr>\n",
       "    <tr>\n",
       "      <th>min</th>\n",
       "      <td>1.000000</td>\n",
       "      <td>1.000000</td>\n",
       "      <td>0.000000</td>\n",
       "      <td>-3.000000e+00</td>\n",
       "      <td>0.000000</td>\n",
       "    </tr>\n",
       "    <tr>\n",
       "      <th>25%</th>\n",
       "      <td>290.000000</td>\n",
       "      <td>23.000000</td>\n",
       "      <td>627.000000</td>\n",
       "      <td>1.400000e+01</td>\n",
       "      <td>5.000000</td>\n",
       "    </tr>\n",
       "    <tr>\n",
       "      <th>50%</th>\n",
       "      <td>603.000000</td>\n",
       "      <td>34.000000</td>\n",
       "      <td>1315.000000</td>\n",
       "      <td>2.800000e+01</td>\n",
       "      <td>13.000000</td>\n",
       "    </tr>\n",
       "    <tr>\n",
       "      <th>75%</th>\n",
       "      <td>954.000000</td>\n",
       "      <td>44.000000</td>\n",
       "      <td>2257.000000</td>\n",
       "      <td>4.800000e+01</td>\n",
       "      <td>23.000000</td>\n",
       "    </tr>\n",
       "    <tr>\n",
       "      <th>max</th>\n",
       "      <td>1268.000000</td>\n",
       "      <td>103.000000</td>\n",
       "      <td>4264.000000</td>\n",
       "      <td>2.103840e+07</td>\n",
       "      <td>92.000000</td>\n",
       "    </tr>\n",
       "  </tbody>\n",
       "</table>\n",
       "</div>"
      ],
      "text/plain": [
       "           route_id  upcoming_stop_idx  upcoming_stop_id           eta  \\\n",
       "count  40600.000000       40600.000000      40600.000000  4.060000e+04   \n",
       "mean     621.778547          34.184335       1479.613153  6.252243e+03   \n",
       "std      367.522550          15.228191       1054.970278  3.616435e+05   \n",
       "min        1.000000           1.000000          0.000000 -3.000000e+00   \n",
       "25%      290.000000          23.000000        627.000000  1.400000e+01   \n",
       "50%      603.000000          34.000000       1315.000000  2.800000e+01   \n",
       "75%      954.000000          44.000000       2257.000000  4.800000e+01   \n",
       "max     1268.000000         103.000000       4264.000000  2.103840e+07   \n",
       "\n",
       "       stops_in_btw  \n",
       "count  40600.000000  \n",
       "mean      15.807094  \n",
       "std       12.890925  \n",
       "min        0.000000  \n",
       "25%        5.000000  \n",
       "50%       13.000000  \n",
       "75%       23.000000  \n",
       "max       92.000000  "
      ]
     },
     "execution_count": 90,
     "metadata": {},
     "output_type": "execute_result"
    }
   ],
   "source": [
    "route_df.describe()"
   ]
  },
  {
   "cell_type": "code",
   "execution_count": 91,
   "id": "b159ff7f",
   "metadata": {},
   "outputs": [
    {
     "data": {
      "text/plain": [
       "vehicle_id           2263\n",
       "agency                  1\n",
       "route_long_name       603\n",
       "route_id              603\n",
       "upcoming_stop_idx     103\n",
       "upcoming_stop_id     3418\n",
       "eta                   193\n",
       "stops_in_btw           93\n",
       "dtype: int64"
      ]
     },
     "execution_count": 91,
     "metadata": {},
     "output_type": "execute_result"
    }
   ],
   "source": [
    "route_df.nunique()"
   ]
  },
  {
   "cell_type": "code",
   "execution_count": 104,
   "id": "ca2c538c",
   "metadata": {},
   "outputs": [
    {
     "data": {
      "text/html": [
       "<div>\n",
       "<style scoped>\n",
       "    .dataframe tbody tr th:only-of-type {\n",
       "        vertical-align: middle;\n",
       "    }\n",
       "\n",
       "    .dataframe tbody tr th {\n",
       "        vertical-align: top;\n",
       "    }\n",
       "\n",
       "    .dataframe thead th {\n",
       "        text-align: right;\n",
       "    }\n",
       "</style>\n",
       "<table border=\"1\" class=\"dataframe\">\n",
       "  <thead>\n",
       "    <tr style=\"text-align: right;\">\n",
       "      <th></th>\n",
       "      <th>vehicle_id</th>\n",
       "      <th>agency</th>\n",
       "      <th>route_long_name</th>\n",
       "      <th>route_id</th>\n",
       "      <th>upcoming_stop_idx</th>\n",
       "      <th>upcoming_stop_id</th>\n",
       "      <th>eta</th>\n",
       "      <th>stops_in_btw</th>\n",
       "    </tr>\n",
       "  </thead>\n",
       "  <tbody>\n",
       "  </tbody>\n",
       "</table>\n",
       "</div>"
      ],
      "text/plain": [
       "Empty DataFrame\n",
       "Columns: [vehicle_id, agency, route_long_name, route_id, upcoming_stop_idx, upcoming_stop_id, eta, stops_in_btw]\n",
       "Index: []"
      ]
     },
     "execution_count": 104,
     "metadata": {},
     "output_type": "execute_result"
    }
   ],
   "source": [
    "route_df[route_df.duplicated()]"
   ]
  },
  {
   "cell_type": "code",
   "execution_count": 110,
   "id": "056b93c0",
   "metadata": {},
   "outputs": [
    {
     "data": {
      "text/plain": [
       "<pandas.core.groupby.generic.DataFrameGroupBy object at 0x000002BE10B9F640>"
      ]
     },
     "execution_count": 110,
     "metadata": {},
     "output_type": "execute_result"
    }
   ],
   "source": [
    "route_grouped=route_df.groupby(['route_long_name','route_id'])\n",
    "route_grouped"
   ]
  },
  {
   "cell_type": "code",
   "execution_count": 113,
   "id": "44d34190",
   "metadata": {},
   "outputs": [
    {
     "data": {
      "text/plain": [
       "route_long_name                route_id\n",
       "03DOWN                         706          26\n",
       "03UP                           759          74\n",
       "100DOWN                        829         140\n",
       "100UP                          540          97\n",
       "101BDOWN                       397           1\n",
       "                                          ... \n",
       "TMS(+)LAJPATNAGAR              336          39\n",
       "TMS+LAJPAT-AZADPUR             978           9\n",
       "TMS-LAJPATNAGAR                1188        348\n",
       "TMS-LAJPATNGR-AZADPURTERMINAL  338          50\n",
       "TMS-PBAGH                      1018         68\n",
       "Name: vehicle_id, Length: 603, dtype: int64"
      ]
     },
     "execution_count": 113,
     "metadata": {},
     "output_type": "execute_result"
    }
   ],
   "source": [
    "route_df.groupby(['route_long_name','route_id'])['vehicle_id'].count()"
   ]
  }
 ],
 "metadata": {
  "kernelspec": {
   "display_name": "Python 3",
   "language": "python",
   "name": "python3"
  },
  "language_info": {
   "codemirror_mode": {
    "name": "ipython",
    "version": 3
   },
   "file_extension": ".py",
   "mimetype": "text/x-python",
   "name": "python",
   "nbconvert_exporter": "python",
   "pygments_lexer": "ipython3",
   "version": "3.8.8"
  }
 },
 "nbformat": 4,
 "nbformat_minor": 5
}
